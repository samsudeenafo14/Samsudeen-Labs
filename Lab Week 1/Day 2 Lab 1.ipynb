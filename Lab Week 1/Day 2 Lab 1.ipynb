{
 "cells": [
  {
   "cell_type": "markdown",
   "id": "d3bfc191-8885-42ee-b0a0-bbab867c6f9f",
   "metadata": {
    "tags": []
   },
   "source": [
    "# Lab | Flow Control"
   ]
  },
  {
   "cell_type": "markdown",
   "id": "3851fcd1-cf98-4653-9c89-e003b7ec9400",
   "metadata": {},
   "source": [
    "## Exercise: Managing Customer Orders Optimized\n",
    "\n",
    "In the last lab, you were starting an online store that sells various products. To ensure smooth operations, you developed a program that manages customer orders and inventory.\n",
    "\n",
    "You did so without using flow control. Let's go a step further and improve this code.\n",
    "\n",
    "Follow the steps below to complete the exercise:\n",
    "\n",
    "1. Look at your code from the lab data structures, and improve repeated code with loops.\n",
    "\n",
    "2. Instead of asking the user to input the name of three products that a customer wants to order, do the following:\n",
    "    \n",
    "    a. Prompt the user to enter the name of a product that a customer wants to order.\n",
    "    \n",
    "    b. Add the product name to the \"customer_orders\" set.\n",
    "    \n",
    "    c. Ask the user if they want to add another product (yes/no).\n",
    "    \n",
    "    d. Continue the loop until the user does not want to add another product.\n",
    "\n",
    "3. Instead of updating the inventory by subtracting 1 from the quantity of each product, only do it for  the products that were ordered (those in \"customer_orders\")."
   ]
  },
  {
   "cell_type": "code",
   "execution_count": 1,
   "id": "c62c6e82",
   "metadata": {},
   "outputs": [
    {
     "name": "stdout",
     "output_type": "stream",
     "text": [
      "Enter the name of a product ordered: mug\n",
      "Do you want to add another product? (yes/no): yes\n",
      "Enter the name of a product ordered: Keychain\n",
      "Do you want to add another product? (yes/no): no\n",
      "Order Statistics:\n",
      "Total Products Ordered: 2\n",
      "Percentage of Products Ordered: 40.00%\n"
     ]
    }
   ],
   "source": [
    "products = [\"t-shirt\", \"mug\", \"hat\", \"book\", \"keychain\"]\n",
    "\n",
    "def get_customer_orders():\n",
    "    customer_orders = set()\n",
    "    while True:\n",
    "        product = input(\"Enter the name of a product ordered: \").lower()\n",
    "        if product in products:\n",
    "            customer_orders.add(product)\n",
    "        else:\n",
    "            print(\"Product not found. Please enter a valid product.\")\n",
    "        \n",
    "        another_product = input(\"Do you want to add another product? (yes/no): \").lower()\n",
    "        if another_product != \"yes\":\n",
    "            break\n",
    "    return customer_orders\n",
    "\n",
    "def calculate_order_statistics(customer_orders):\n",
    "    total_products_ordered = len(customer_orders)\n",
    "    percentage_ordered = (total_products_ordered / len(products)) * 100\n",
    "    return total_products_ordered, percentage_ordered\n",
    "\n",
    "def print_order_statistics(order_status):\n",
    "    print(\"Order Statistics:\")\n",
    "    print(\"Total Products Ordered:\", order_status[0])\n",
    "    print(\"Percentage of Products Ordered: {:.2f}%\".format(order_status[1]))\n",
    "\n",
    "\n",
    "customer_orders = get_customer_orders()\n",
    "\n",
    "\n",
    "order_status = calculate_order_statistics(customer_orders)\n",
    "\n",
    "\n",
    "print_order_statistics(order_status)\n"
   ]
  },
  {
   "cell_type": "code",
   "execution_count": 3,
   "id": "c0848890",
   "metadata": {},
   "outputs": [],
   "source": [
    "def update_inventory(inventory, customer_orders):\n",
    "    for product in customer_orders:\n",
    "        if product in inventory and inventory[product] > 0:\n",
    "            inventory[product] -= 1\n",
    "        else:\n",
    "            print(f\"{product} is out of stock.\")"
   ]
  },
  {
   "cell_type": "code",
   "execution_count": null,
   "id": "3cca0219",
   "metadata": {},
   "outputs": [],
   "source": []
  }
 ],
 "metadata": {
  "kernelspec": {
   "display_name": "Python 3 (ipykernel)",
   "language": "python",
   "name": "python3"
  },
  "language_info": {
   "codemirror_mode": {
    "name": "ipython",
    "version": 3
   },
   "file_extension": ".py",
   "mimetype": "text/x-python",
   "name": "python",
   "nbconvert_exporter": "python",
   "pygments_lexer": "ipython3",
   "version": "3.11.4"
  }
 },
 "nbformat": 4,
 "nbformat_minor": 5
}
