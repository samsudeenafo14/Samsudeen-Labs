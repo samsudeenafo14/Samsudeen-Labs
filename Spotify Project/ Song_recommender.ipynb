{
 "cells": [
  {
   "cell_type": "code",
   "execution_count": 1,
   "id": "1c0a2a51",
   "metadata": {
    "id": "1c0a2a51"
   },
   "outputs": [],
   "source": [
    "import numpy as np\n",
    "import pandas as pd\n",
    "from difflib import get_close_matches\n",
    "import random"
   ]
  },
  {
   "cell_type": "code",
   "execution_count": 2,
   "id": "2f847968",
   "metadata": {
    "id": "2f847968"
   },
   "outputs": [],
   "source": [
    "df = pd.read_csv(\"Hot_100_df.csv\")"
   ]
  },
  {
   "cell_type": "code",
   "execution_count": 3,
   "id": "65f5067b",
   "metadata": {
    "id": "65f5067b"
   },
   "outputs": [],
   "source": [
    "df2 = pd.read_csv(\"afrobeats_df.csv\")"
   ]
  },
  {
   "cell_type": "code",
   "execution_count": 4,
   "id": "RSUhsCjCEyMs",
   "metadata": {
    "colab": {
     "base_uri": "https://localhost:8080/",
     "height": 206
    },
    "id": "RSUhsCjCEyMs",
    "outputId": "7a825d8e-1db6-448a-c777-68facaffb8ac"
   },
   "outputs": [
    {
     "data": {
      "text/html": [
       "<div>\n",
       "<style scoped>\n",
       "    .dataframe tbody tr th:only-of-type {\n",
       "        vertical-align: middle;\n",
       "    }\n",
       "\n",
       "    .dataframe tbody tr th {\n",
       "        vertical-align: top;\n",
       "    }\n",
       "\n",
       "    .dataframe thead th {\n",
       "        text-align: right;\n",
       "    }\n",
       "</style>\n",
       "<table border=\"1\" class=\"dataframe\">\n",
       "  <thead>\n",
       "    <tr style=\"text-align: right;\">\n",
       "      <th></th>\n",
       "      <th>Artist</th>\n",
       "      <th>Title</th>\n",
       "    </tr>\n",
       "  </thead>\n",
       "  <tbody>\n",
       "    <tr>\n",
       "      <th>0</th>\n",
       "      <td>TYLA</td>\n",
       "      <td>WATER</td>\n",
       "    </tr>\n",
       "    <tr>\n",
       "      <th>1</th>\n",
       "      <td>BURNA BOY</td>\n",
       "      <td>CITY BOYS</td>\n",
       "    </tr>\n",
       "    <tr>\n",
       "      <th>2</th>\n",
       "      <td>TEMS</td>\n",
       "      <td>ME &amp; U</td>\n",
       "    </tr>\n",
       "    <tr>\n",
       "      <th>3</th>\n",
       "      <td>BURNA BOY FT DAVE</td>\n",
       "      <td>CHEAT ON ME</td>\n",
       "    </tr>\n",
       "    <tr>\n",
       "      <th>4</th>\n",
       "      <td>VICTOR THOMPSON/EHIS DGREATEST</td>\n",
       "      <td>NewTHIS YEAR (BLESSINGS)</td>\n",
       "    </tr>\n",
       "  </tbody>\n",
       "</table>\n",
       "</div>"
      ],
      "text/plain": [
       "                           Artist                     Title\n",
       "0                            TYLA                     WATER\n",
       "1                       BURNA BOY                 CITY BOYS\n",
       "2                            TEMS                    ME & U\n",
       "3               BURNA BOY FT DAVE               CHEAT ON ME\n",
       "4  VICTOR THOMPSON/EHIS DGREATEST  NewTHIS YEAR (BLESSINGS)"
      ]
     },
     "execution_count": 4,
     "metadata": {},
     "output_type": "execute_result"
    }
   ],
   "source": [
    "df2.head()"
   ]
  },
  {
   "cell_type": "code",
   "execution_count": 5,
   "id": "YYmjGbzVp3u6",
   "metadata": {
    "colab": {
     "base_uri": "https://localhost:8080/"
    },
    "id": "YYmjGbzVp3u6",
    "outputId": "311c7afb-045b-446a-d61b-602a95d2138c"
   },
   "outputs": [
    {
     "name": "stdout",
     "output_type": "stream",
     "text": [
      "Collecting fuzzywuzzy\n",
      "  Downloading fuzzywuzzy-0.18.0-py2.py3-none-any.whl (18 kB)\n",
      "Installing collected packages: fuzzywuzzy\n",
      "Successfully installed fuzzywuzzy-0.18.0\n"
     ]
    }
   ],
   "source": [
    "!pip install fuzzywuzzy"
   ]
  },
  {
   "cell_type": "code",
   "execution_count": 6,
   "id": "5FNcvD7wqK4i",
   "metadata": {
    "colab": {
     "base_uri": "https://localhost:8080/"
    },
    "id": "5FNcvD7wqK4i",
    "outputId": "79d5f720-aedc-4f27-d60b-1579fd15db0d"
   },
   "outputs": [
    {
     "name": "stdout",
     "output_type": "stream",
     "text": [
      "Collecting python-Levenshtein\n",
      "  Obtaining dependency information for python-Levenshtein from https://files.pythonhosted.org/packages/27/89/c45dbdbd479453cfc8c4c1271c9f67fd607deaf84880e31c67b682980456/python_Levenshtein-0.23.0-py3-none-any.whl.metadata\n",
      "  Downloading python_Levenshtein-0.23.0-py3-none-any.whl.metadata (3.8 kB)\n",
      "Collecting Levenshtein==0.23.0 (from python-Levenshtein)\n",
      "  Obtaining dependency information for Levenshtein==0.23.0 from https://files.pythonhosted.org/packages/12/06/c4a6bbc804d027ccc2b0229adb7ed733b63db34bb18d261aeae6c2fb2ea4/Levenshtein-0.23.0-cp311-cp311-macosx_10_9_x86_64.whl.metadata\n",
      "  Downloading Levenshtein-0.23.0-cp311-cp311-macosx_10_9_x86_64.whl.metadata (3.4 kB)\n",
      "Collecting rapidfuzz<4.0.0,>=3.1.0 (from Levenshtein==0.23.0->python-Levenshtein)\n",
      "  Obtaining dependency information for rapidfuzz<4.0.0,>=3.1.0 from https://files.pythonhosted.org/packages/5d/47/309addcb9e8d818a8456956ffa9f4db57be11187515b64d24ca0d500e3a4/rapidfuzz-3.5.2-cp311-cp311-macosx_10_9_x86_64.whl.metadata\n",
      "  Downloading rapidfuzz-3.5.2-cp311-cp311-macosx_10_9_x86_64.whl.metadata (11 kB)\n",
      "Downloading python_Levenshtein-0.23.0-py3-none-any.whl (9.4 kB)\n",
      "Downloading Levenshtein-0.23.0-cp311-cp311-macosx_10_9_x86_64.whl (132 kB)\n",
      "\u001b[2K   \u001b[90m━━━━━━━━━━━━━━━━━━━━━━━━━━━━━━━━━━━━━━━━\u001b[0m \u001b[32m132.9/132.9 kB\u001b[0m \u001b[31m1.9 MB/s\u001b[0m eta \u001b[36m0:00:00\u001b[0m \u001b[36m0:00:01\u001b[0m\n",
      "\u001b[?25hDownloading rapidfuzz-3.5.2-cp311-cp311-macosx_10_9_x86_64.whl (2.6 MB)\n",
      "\u001b[2K   \u001b[90m━━━━━━━━━━━━━━━━━━━━━━━━━━━━━━━━━━━━━━━━\u001b[0m \u001b[32m2.6/2.6 MB\u001b[0m \u001b[31m2.9 MB/s\u001b[0m eta \u001b[36m0:00:00\u001b[0m00:01\u001b[0m00:01\u001b[0m\n",
      "\u001b[?25hInstalling collected packages: rapidfuzz, Levenshtein, python-Levenshtein\n",
      "Successfully installed Levenshtein-0.23.0 python-Levenshtein-0.23.0 rapidfuzz-3.5.2\n"
     ]
    }
   ],
   "source": [
    "!pip install python-Levenshtein"
   ]
  },
  {
   "cell_type": "code",
   "execution_count": 1,
   "id": "u_yZrWhMp-It",
   "metadata": {
    "colab": {
     "base_uri": "https://localhost:8080/"
    },
    "id": "u_yZrWhMp-It",
    "outputId": "989138ef-ae2b-40f3-aba3-4b0df8ba83bf"
   },
   "outputs": [],
   "source": [
    "from fuzzywuzzy import fuzz, process\n",
    "import re"
   ]
  },
  {
   "cell_type": "code",
   "execution_count": null,
   "id": "zkHAo7b1pNZV",
   "metadata": {
    "colab": {
     "base_uri": "https://localhost:8080/"
    },
    "id": "zkHAo7b1pNZV",
    "outputId": "06b7d1f8-bb78-4716-8fbb-099026d26455"
   },
   "outputs": [],
   "source": [
    "def recommend_song(user_input, hot_df, afrobeat_df):\n",
    "    # Check if the user's input is in the Hot 100 DataFrame\n",
    "    hot_match = process.extractOne(user_input, hot_df['Title'], scorer=fuzz.token_sort_ratio)\n",
    "\n",
    "    if hot_match[1] >= 50:  #threshold of similarity incase of typos\n",
    "        # User input is in the Hot 100\n",
    "        hot_recommendation = hot_df[hot_df['Title'] != user_input].sample(1)\n",
    "        print(f\"Recommended Hot 100 Song: {hot_recommendation['Title'].values[0]} by {hot_recommendation['Artist'].values[0]}\")\n",
    "    else:\n",
    "        # User input is not in the Hot 100\n",
    "        # Check if it's in the Afrobeat DataFrame\n",
    "        afrobeat_match = process.extractOne(user_input, afrobeat_df['Title'], scorer=fuzz.token_sort_ratio)\n",
    "\n",
    "        if afrobeat_match[1] >= 90:  # Adjust the threshold as needed\n",
    "            # User input is in the Afrobeat DataFrame\n",
    "            afrobeat_recommendation = afrobeat_df[afrobeat_df['Title'] != afrobeat_match[0]].sample(1)\n",
    "            print(f\"Recommended Afrobeat Song: {afrobeat_recommendation['Title'].values[0]} by {afrobeat_recommendation['Artist'].values[0]}\")\n",
    "        else:\n",
    "            # User input is not in either DataFrame\n",
    "            print(\"Sorry, your song is not in the hot list or the Afrobeat list.\")\n",
    "\n",
    "# Example usage\n",
    "user_input = input(\"Enter a song title: \")\n",
    "recommend_song(user_input, df, df2)"
   ]
  },
  {
   "cell_type": "markdown",
   "id": "9fkMpFTV1L1G",
   "metadata": {
    "id": "9fkMpFTV1L1G"
   },
   "source": [
    "fuzzywuzzy is a Python library that helps compare strings and determine how similar or \"fuzzy\" they are. It uses a scoring system to quantify the similarity between two strings, taking into account things like typos, misspellings, and rearranged words.\n",
    "\n",
    "In the provided code, fuzzywuzzy is used to compare the user's input with song titles in the Hot 100 and Afrobeat DataFrames. The fuzz.token_sort_ratio function is particularly useful for comparing strings with potentially different word order.\n",
    "\n",
    "For example, if a user types \"Hello World\" and the actual song title is \"World Hello,\" fuzzywuzzy helps identify that these two strings are similar, even if the words are in a different order.\n",
    "\n",
    "The process.extractOne function returns the best matching string and a score. The code then uses a threshold (in this case, 90) to determine if the match is strong enough to consider as a recommendation. If the score is above the threshold, the code proceeds with recommending a song; otherwise, it assumes there's no close match."
   ]
  },
  {
   "cell_type": "code",
   "execution_count": null,
   "id": "ppvgIlOTvhnq",
   "metadata": {
    "id": "ppvgIlOTvhnq"
   },
   "outputs": [],
   "source": []
  }
 ],
 "metadata": {
  "colab": {
   "provenance": []
  },
  "kernelspec": {
   "display_name": "Python 3 (ipykernel)",
   "language": "python",
   "name": "python3"
  },
  "language_info": {
   "codemirror_mode": {
    "name": "ipython",
    "version": 3
   },
   "file_extension": ".py",
   "mimetype": "text/x-python",
   "name": "python",
   "nbconvert_exporter": "python",
   "pygments_lexer": "ipython3",
   "version": "3.11.4"
  }
 },
 "nbformat": 4,
 "nbformat_minor": 5
}
