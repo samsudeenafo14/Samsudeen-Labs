{
 "cells": [
  {
   "cell_type": "code",
   "execution_count": null,
   "id": "ebe12801",
   "metadata": {},
   "outputs": [],
   "source": [
    "#it is assumed that the mean systolic blood pressure is μ = 120 mm Hg. \n",
    "#In the Honolulu Heart Study, a sample of n = 100 people had an average systolic blood pressure of 130.1 mm Hg with a standard deviation of 21.21 mm Hg. \n",
    "#Is the group significantly different (with respect to systolic blood pressure!) from the regular population?\n",
    "#Set up the hypothesis test.\n",
    "#Write down all the steps followed for setting up the test.\n",
    "#Calculate the test statistic by hand and also code it in Python. It should be 4.76190. What decision can you make based on this calculated value?"
   ]
  },
  {
   "cell_type": "code",
   "execution_count": 1,
   "id": "ed0464c4",
   "metadata": {},
   "outputs": [],
   "source": [
    "import numpy as np\n",
    "import pandas as pd\n",
    "import scipy.stats as stats\n",
    "import matplotlib.pyplot as plt\n",
    "import seaborn as sns\n",
    "\n",
    "%matplotlib inline"
   ]
  },
  {
   "cell_type": "code",
   "execution_count": 16,
   "id": "47f4a2ef",
   "metadata": {},
   "outputs": [],
   "source": [
    "n= 100\n",
    "sample_mean= 130.1\n",
    "population_mean= 120\n",
    "sample_std= 21.21\n"
   ]
  },
  {
   "cell_type": "code",
   "execution_count": 12,
   "id": "907f5b52",
   "metadata": {},
   "outputs": [],
   "source": [
    "# Ho =120mm\n",
    "# Ha!=120mm"
   ]
  },
  {
   "cell_type": "code",
   "execution_count": 18,
   "id": "55aeaacc",
   "metadata": {},
   "outputs": [],
   "source": [
    "#calculating the normal statistics\n",
    "\n",
    "z= (sample_mean-population_mean)/(sample_std/np.sqrt(n))"
   ]
  },
  {
   "cell_type": "code",
   "execution_count": 19,
   "id": "0f70c628",
   "metadata": {},
   "outputs": [
    {
     "data": {
      "text/plain": [
       "4.761904761904759"
      ]
     },
     "execution_count": 19,
     "metadata": {},
     "output_type": "execute_result"
    }
   ],
   "source": [
    "z"
   ]
  },
  {
   "cell_type": "code",
   "execution_count": 21,
   "id": "a5d0c1e2",
   "metadata": {},
   "outputs": [
    {
     "name": "stdout",
     "output_type": "stream",
     "text": [
      "The critical value corresponding to a 0.95 area of a normal distribution is: 1.66\n"
     ]
    }
   ],
   "source": [
    "zc = stats.t.ppf(1-0.05, df=99) # 0.95 is the confidence level.\n",
    "print(\"The critical value corresponding to a 0.95 area of a normal distribution is: {:.2f}\".format(zc))"
   ]
  },
  {
   "cell_type": "code",
   "execution_count": null,
   "id": "68ba2ea9",
   "metadata": {},
   "outputs": [],
   "source": [
    "#comparing the z-score with the critical value:zc. Are we in the forbiden region?\n",
    "#z = 4.761 > zc = 1.66"
   ]
  }
 ],
 "metadata": {
  "kernelspec": {
   "display_name": "Python 3 (ipykernel)",
   "language": "python",
   "name": "python3"
  },
  "language_info": {
   "codemirror_mode": {
    "name": "ipython",
    "version": 3
   },
   "file_extension": ".py",
   "mimetype": "text/x-python",
   "name": "python",
   "nbconvert_exporter": "python",
   "pygments_lexer": "ipython3",
   "version": "3.11.4"
  }
 },
 "nbformat": 4,
 "nbformat_minor": 5
}
