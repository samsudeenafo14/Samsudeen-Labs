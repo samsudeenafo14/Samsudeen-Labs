{
 "cells": [
  {
   "cell_type": "code",
   "execution_count": 50,
   "id": "513fb6e1",
   "metadata": {},
   "outputs": [],
   "source": [
    "import numpy as np\n",
    "import pandas as pd"
   ]
  },
  {
   "cell_type": "code",
   "execution_count": 51,
   "id": "ea7fc3f6",
   "metadata": {},
   "outputs": [],
   "source": [
    "p_df = pd.read_csv('marketing_customer_analysis_clean.csv')"
   ]
  },
  {
   "cell_type": "code",
   "execution_count": 52,
   "id": "53c9d01f",
   "metadata": {},
   "outputs": [],
   "source": [
    "p_df = p_df.dropna()"
   ]
  },
  {
   "cell_type": "code",
   "execution_count": 53,
   "id": "4c0fcd41",
   "metadata": {},
   "outputs": [
    {
     "data": {
      "text/plain": [
       "unnamed:_0                         int64\n",
       "customer                          object\n",
       "state                             object\n",
       "customer_lifetime_value          float64\n",
       "response                          object\n",
       "coverage                          object\n",
       "education                         object\n",
       "effective_to_date                 object\n",
       "employmentstatus                  object\n",
       "gender                            object\n",
       "income                             int64\n",
       "location_code                     object\n",
       "marital_status                    object\n",
       "monthly_premium_auto               int64\n",
       "months_since_last_claim          float64\n",
       "months_since_policy_inception      int64\n",
       "number_of_open_complaints        float64\n",
       "number_of_policies                 int64\n",
       "policy_type                       object\n",
       "policy                            object\n",
       "renew_offer_type                  object\n",
       "sales_channel                     object\n",
       "total_claim_amount               float64\n",
       "vehicle_class                     object\n",
       "vehicle_size                      object\n",
       "vehicle_type                      object\n",
       "month                              int64\n",
       "dtype: object"
      ]
     },
     "execution_count": 53,
     "metadata": {},
     "output_type": "execute_result"
    }
   ],
   "source": [
    "p_df.dtypes"
   ]
  },
  {
   "cell_type": "code",
   "execution_count": 71,
   "id": "37650aba",
   "metadata": {},
   "outputs": [],
   "source": [
    "x= p_df[['customer_lifetime_value', 'income', 'monthly_premium_auto', 'months_since_policy_inception', 'number_of_open_complaints', 'number_of_policies', 'months_since_last_claim' ] ]\n",
    "y= p_df['total_claim_amount']"
   ]
  },
  {
   "cell_type": "code",
   "execution_count": 72,
   "id": "f84ead45",
   "metadata": {},
   "outputs": [],
   "source": [
    "#standardizing the data"
   ]
  },
  {
   "cell_type": "code",
   "execution_count": 73,
   "id": "3cf5ec80",
   "metadata": {},
   "outputs": [],
   "source": [
    "from sklearn.model_selection import train_test_split"
   ]
  },
  {
   "cell_type": "code",
   "execution_count": 74,
   "id": "e70141e0",
   "metadata": {},
   "outputs": [],
   "source": [
    "x_train, x_test, y_train, y_test = train_test_split(x, y, test_size = 0.25, random_state = 100)"
   ]
  },
  {
   "cell_type": "code",
   "execution_count": 75,
   "id": "bc222080",
   "metadata": {},
   "outputs": [],
   "source": [
    "from sklearn.preprocessing import StandardScaler\n",
    "\n",
    "scaler = StandardScaler()\n",
    "x_train_scaled = scaler.fit_transform(x_train)\n",
    "\n",
    "x_train_fit = scaler.fit(x_train)\n",
    "x_test_scaled = x_train_fit.transform(x_test)\n"
   ]
  },
  {
   "cell_type": "code",
   "execution_count": 76,
   "id": "65eb49c8",
   "metadata": {},
   "outputs": [],
   "source": [
    "#linear regression"
   ]
  },
  {
   "cell_type": "code",
   "execution_count": 77,
   "id": "5771a8ec",
   "metadata": {},
   "outputs": [],
   "source": [
    "from sklearn.linear_model import LinearRegression"
   ]
  },
  {
   "cell_type": "code",
   "execution_count": 78,
   "id": "aaf964d4",
   "metadata": {},
   "outputs": [],
   "source": [
    "lm = LinearRegression()"
   ]
  },
  {
   "cell_type": "code",
   "execution_count": 79,
   "id": "7b658c84",
   "metadata": {},
   "outputs": [],
   "source": [
    "model = lm.fit(x_train, y_train)"
   ]
  },
  {
   "cell_type": "code",
   "execution_count": 80,
   "id": "286a9618",
   "metadata": {},
   "outputs": [
    {
     "data": {
      "text/plain": [
       "array([-5.92751191e-04, -3.35419425e-03,  5.26470109e+00, -1.77973685e-01,\n",
       "       -2.74753943e+00,  1.74704573e-01, -1.37099888e-01])"
      ]
     },
     "execution_count": 80,
     "metadata": {},
     "output_type": "execute_result"
    }
   ],
   "source": [
    "model.coef_"
   ]
  },
  {
   "cell_type": "code",
   "execution_count": 81,
   "id": "38bbb027",
   "metadata": {},
   "outputs": [
    {
     "data": {
      "text/plain": [
       "85.302231166208"
      ]
     },
     "execution_count": 81,
     "metadata": {},
     "output_type": "execute_result"
    }
   ],
   "source": [
    "model.intercept_"
   ]
  },
  {
   "cell_type": "code",
   "execution_count": 82,
   "id": "73549b3d",
   "metadata": {},
   "outputs": [],
   "source": [
    "#predict the total claim amount"
   ]
  },
  {
   "cell_type": "code",
   "execution_count": 83,
   "id": "88a3cbef",
   "metadata": {},
   "outputs": [
    {
     "data": {
      "text/plain": [
       "array([[-0.76043343, -0.35616218, -0.64372705, ..., -0.42923353,\n",
       "        -0.83292699, -1.13455546],\n",
       "       [-0.7907347 , -0.5605567 , -0.64372705, ...,  0.70799066,\n",
       "        -0.83292699, -0.0077106 ],\n",
       "       [-0.073986  , -1.23962932,  0.40000755, ..., -0.42923353,\n",
       "         2.08053707, -0.92967458],\n",
       "       ...,\n",
       "       [-0.18143387, -1.23962932,  0.05209602, ..., -0.42923353,\n",
       "         0.83190962, -0.0077106 ],\n",
       "       [-0.59334724,  1.81207528,  0.19705916, ..., -0.42923353,\n",
       "        -0.83292699, -1.44187678],\n",
       "       [ 0.05092055,  1.18606345,  0.31302967, ..., -0.42923353,\n",
       "         2.49674622,  1.63133646]])"
      ]
     },
     "execution_count": 83,
     "metadata": {},
     "output_type": "execute_result"
    }
   ],
   "source": [
    "x_test_scaled"
   ]
  },
  {
   "cell_type": "code",
   "execution_count": 84,
   "id": "dc67ca96",
   "metadata": {},
   "outputs": [
    {
     "name": "stderr",
     "output_type": "stream",
     "text": [
      "/Users/user/anaconda3/lib/python3.11/site-packages/sklearn/base.py:464: UserWarning: X does not have valid feature names, but LinearRegression was fitted with feature names\n",
      "  warnings.warn(\n"
     ]
    }
   ],
   "source": [
    "predicted= model.predict(x_test_scaled)"
   ]
  },
  {
   "cell_type": "code",
   "execution_count": 86,
   "id": "d1e54d69",
   "metadata": {},
   "outputs": [],
   "source": [
    "real_pred = pd.DataFrame()\n",
    "real_pred[\"real\"] = y_test\n",
    "real_pred[\"predicted\"] = predicted"
   ]
  },
  {
   "cell_type": "code",
   "execution_count": 87,
   "id": "14b28927",
   "metadata": {},
   "outputs": [
    {
     "data": {
      "text/html": [
       "<div>\n",
       "<style scoped>\n",
       "    .dataframe tbody tr th:only-of-type {\n",
       "        vertical-align: middle;\n",
       "    }\n",
       "\n",
       "    .dataframe tbody tr th {\n",
       "        vertical-align: top;\n",
       "    }\n",
       "\n",
       "    .dataframe thead th {\n",
       "        text-align: right;\n",
       "    }\n",
       "</style>\n",
       "<table border=\"1\" class=\"dataframe\">\n",
       "  <thead>\n",
       "    <tr style=\"text-align: right;\">\n",
       "      <th></th>\n",
       "      <th>real</th>\n",
       "      <th>predicted</th>\n",
       "    </tr>\n",
       "  </thead>\n",
       "  <tbody>\n",
       "    <tr>\n",
       "      <th>1250</th>\n",
       "      <td>340.800000</td>\n",
       "      <td>83.149026</td>\n",
       "    </tr>\n",
       "    <tr>\n",
       "      <th>5438</th>\n",
       "      <td>195.153339</td>\n",
       "      <td>79.615881</td>\n",
       "    </tr>\n",
       "    <tr>\n",
       "      <th>10156</th>\n",
       "      <td>770.400000</td>\n",
       "      <td>88.987305</td>\n",
       "    </tr>\n",
       "    <tr>\n",
       "      <th>3441</th>\n",
       "      <td>336.000000</td>\n",
       "      <td>73.640382</td>\n",
       "    </tr>\n",
       "    <tr>\n",
       "      <th>682</th>\n",
       "      <td>561.600000</td>\n",
       "      <td>90.221711</td>\n",
       "    </tr>\n",
       "    <tr>\n",
       "      <th>...</th>\n",
       "      <td>...</td>\n",
       "      <td>...</td>\n",
       "    </tr>\n",
       "    <tr>\n",
       "      <th>5063</th>\n",
       "      <td>345.600000</td>\n",
       "      <td>77.388639</td>\n",
       "    </tr>\n",
       "    <tr>\n",
       "      <th>10053</th>\n",
       "      <td>664.280864</td>\n",
       "      <td>91.475943</td>\n",
       "    </tr>\n",
       "    <tr>\n",
       "      <th>3453</th>\n",
       "      <td>684.000000</td>\n",
       "      <td>87.161513</td>\n",
       "    </tr>\n",
       "    <tr>\n",
       "      <th>9241</th>\n",
       "      <td>25.713622</td>\n",
       "      <td>87.521099</td>\n",
       "    </tr>\n",
       "    <tr>\n",
       "      <th>10449</th>\n",
       "      <td>497.684017</td>\n",
       "      <td>88.618597</td>\n",
       "    </tr>\n",
       "  </tbody>\n",
       "</table>\n",
       "<p>2728 rows × 2 columns</p>\n",
       "</div>"
      ],
      "text/plain": [
       "             real  predicted\n",
       "1250   340.800000  83.149026\n",
       "5438   195.153339  79.615881\n",
       "10156  770.400000  88.987305\n",
       "3441   336.000000  73.640382\n",
       "682    561.600000  90.221711\n",
       "...           ...        ...\n",
       "5063   345.600000  77.388639\n",
       "10053  664.280864  91.475943\n",
       "3453   684.000000  87.161513\n",
       "9241    25.713622  87.521099\n",
       "10449  497.684017  88.618597\n",
       "\n",
       "[2728 rows x 2 columns]"
      ]
     },
     "execution_count": 87,
     "metadata": {},
     "output_type": "execute_result"
    }
   ],
   "source": [
    "real_pred"
   ]
  },
  {
   "cell_type": "code",
   "execution_count": null,
   "id": "b6355f12",
   "metadata": {},
   "outputs": [],
   "source": [
    "#calculate the RMSE"
   ]
  },
  {
   "cell_type": "code",
   "execution_count": 88,
   "id": "76ae0fa8",
   "metadata": {},
   "outputs": [],
   "source": [
    "from sklearn.metrics import mean_squared_error as mse"
   ]
  },
  {
   "cell_type": "code",
   "execution_count": 89,
   "id": "e93c5eae",
   "metadata": {},
   "outputs": [
    {
     "data": {
      "text/plain": [
       "461.4590988612156"
      ]
     },
     "execution_count": 89,
     "metadata": {},
     "output_type": "execute_result"
    }
   ],
   "source": [
    "np.sqrt(mse(real_pred['real'], real_pred['predicted']))"
   ]
  },
  {
   "cell_type": "code",
   "execution_count": null,
   "id": "530ad522",
   "metadata": {},
   "outputs": [],
   "source": []
  },
  {
   "cell_type": "code",
   "execution_count": null,
   "id": "dde839dd",
   "metadata": {},
   "outputs": [],
   "source": []
  }
 ],
 "metadata": {
  "kernelspec": {
   "display_name": "Python 3 (ipykernel)",
   "language": "python",
   "name": "python3"
  },
  "language_info": {
   "codemirror_mode": {
    "name": "ipython",
    "version": 3
   },
   "file_extension": ".py",
   "mimetype": "text/x-python",
   "name": "python",
   "nbconvert_exporter": "python",
   "pygments_lexer": "ipython3",
   "version": "3.11.4"
  }
 },
 "nbformat": 4,
 "nbformat_minor": 5
}
