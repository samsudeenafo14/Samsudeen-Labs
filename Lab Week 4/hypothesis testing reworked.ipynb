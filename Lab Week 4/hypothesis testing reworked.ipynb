{
 "cells": [
  {
   "cell_type": "code",
   "execution_count": null,
   "id": "478007d2",
   "metadata": {},
   "outputs": [],
   "source": [
    "#it is assumed that the mean systolic blood pressure is μ = 120 mm Hg. \n",
    "#In the Honolulu Heart Study, a sample of n = 100 people had an average systolic blood pressure of 130.1 mm Hg with a standard deviation of 21.21 mm Hg. \n",
    "#Is the group significantly different (with respect to systolic blood pressure!) from the regular population?\n",
    "#Set up the hypothesis test.\n",
    "#Write down all the steps followed for setting up the test.\n",
    "#Calculate the test statistic by hand and also code it in Python. It should be 4.76190. What decision can you make based on this calculated value?"
   ]
  },
  {
   "cell_type": "code",
   "execution_count": 1,
   "id": "ddc0faac",
   "metadata": {},
   "outputs": [],
   "source": [
    "import numpy as np\n",
    "import pandas as pd\n",
    "import scipy.stats as stats\n",
    "import matplotlib.pyplot as plt\n",
    "import seaborn as sns\n",
    "\n",
    "%matplotlib inline"
   ]
  },
  {
   "cell_type": "code",
   "execution_count": 16,
   "id": "9ac08873",
   "metadata": {},
   "outputs": [],
   "source": [
    "n= 100\n",
    "sample_mean= 130.1\n",
    "population_mean= 120\n",
    "sample_std= 21.21\n"
   ]
  },
  {
   "cell_type": "code",
   "execution_count": 12,
   "id": "3cc999af",
   "metadata": {},
   "outputs": [],
   "source": [
    "# Ho =120mm\n",
    "# Ha!=120mm"
   ]
  },
  {
   "cell_type": "code",
   "execution_count": 18,
   "id": "691c5305",
   "metadata": {},
   "outputs": [],
   "source": [
    "#calculating the normal statistics\n",
    "\n",
    "z= (sample_mean-population_mean)/(sample_std/np.sqrt(n))"
   ]
  },
  {
   "cell_type": "code",
   "execution_count": 19,
   "id": "518f86c0",
   "metadata": {},
   "outputs": [
    {
     "data": {
      "text/plain": [
       "4.761904761904759"
      ]
     },
     "execution_count": 19,
     "metadata": {},
     "output_type": "execute_result"
    }
   ],
   "source": [
    "z"
   ]
  },
  {
   "cell_type": "code",
   "execution_count": 22,
   "id": "5efbeec9",
   "metadata": {},
   "outputs": [
    {
     "name": "stdout",
     "output_type": "stream",
     "text": [
      "The critical value corresponding to a 0.95 area of a normal distribution is: 1.98\n"
     ]
    }
   ],
   "source": [
    "zc = stats.t.ppf(1-0.05/2,df=99) # 0.95 is the confidence level.\n",
    "print(\"The critical value corresponding to a 0.95 area of a normal distribution is: {:.2f}\".format(zc))"
   ]
  },
  {
   "cell_type": "code",
   "execution_count": 23,
   "id": "e33f9b21",
   "metadata": {},
   "outputs": [],
   "source": [
    "p_value =(1 - stats.t.cdf(4.76,99))"
   ]
  },
  {
   "cell_type": "code",
   "execution_count": 24,
   "id": "db4dc208",
   "metadata": {},
   "outputs": [
    {
     "data": {
      "text/plain": [
       "3.3066342303156304e-06"
      ]
     },
     "execution_count": 24,
     "metadata": {},
     "output_type": "execute_result"
    }
   ],
   "source": [
    "p_value"
   ]
  },
  {
   "cell_type": "code",
   "execution_count": null,
   "id": "7fef28e3",
   "metadata": {},
   "outputs": [],
   "source": [
    "#comparing the z-score with the critical value:zc. Are we in the forbiden region?\n",
    "#z = 4.761 > zc = 1.66\n",
    "#we reject the null hypothesis"
   ]
  }
 ],
 "metadata": {
  "kernelspec": {
   "display_name": "Python 3 (ipykernel)",
   "language": "python",
   "name": "python3"
  },
  "language_info": {
   "codemirror_mode": {
    "name": "ipython",
    "version": 3
   },
   "file_extension": ".py",
   "mimetype": "text/x-python",
   "name": "python",
   "nbconvert_exporter": "python",
   "pygments_lexer": "ipython3",
   "version": "3.11.4"
  }
 },
 "nbformat": 4,
 "nbformat_minor": 5
}
