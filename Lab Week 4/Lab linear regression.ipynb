{
 "cells": [
  {
   "cell_type": "code",
   "execution_count": 50,
   "id": "4b519980",
   "metadata": {},
   "outputs": [],
   "source": [
    "import numpy as np\n",
    "import pandas as pd"
   ]
  },
  {
   "cell_type": "code",
   "execution_count": 51,
   "id": "af7f26ed",
   "metadata": {},
   "outputs": [],
   "source": [
    "p_df = pd.read_csv('marketing_customer_analysis_clean.csv')"
   ]
  },
  {
   "cell_type": "code",
   "execution_count": 52,
   "id": "303c12cc",
   "metadata": {},
   "outputs": [],
   "source": [
    "p_df = p_df.dropna()"
   ]
  },
  {
   "cell_type": "code",
   "execution_count": 53,
   "id": "3c14277f",
   "metadata": {},
   "outputs": [
    {
     "data": {
      "text/plain": [
       "unnamed:_0                         int64\n",
       "customer                          object\n",
       "state                             object\n",
       "customer_lifetime_value          float64\n",
       "response                          object\n",
       "coverage                          object\n",
       "education                         object\n",
       "effective_to_date                 object\n",
       "employmentstatus                  object\n",
       "gender                            object\n",
       "income                             int64\n",
       "location_code                     object\n",
       "marital_status                    object\n",
       "monthly_premium_auto               int64\n",
       "months_since_last_claim          float64\n",
       "months_since_policy_inception      int64\n",
       "number_of_open_complaints        float64\n",
       "number_of_policies                 int64\n",
       "policy_type                       object\n",
       "policy                            object\n",
       "renew_offer_type                  object\n",
       "sales_channel                     object\n",
       "total_claim_amount               float64\n",
       "vehicle_class                     object\n",
       "vehicle_size                      object\n",
       "vehicle_type                      object\n",
       "month                              int64\n",
       "dtype: object"
      ]
     },
     "execution_count": 53,
     "metadata": {},
     "output_type": "execute_result"
    }
   ],
   "source": [
    "p_df.dtypes"
   ]
  },
  {
   "cell_type": "code",
   "execution_count": 71,
   "id": "112ee36e",
   "metadata": {},
   "outputs": [],
   "source": [
    "x= p_df[['customer_lifetime_value', 'income', 'monthly_premium_auto', 'months_since_policy_inception', 'number_of_open_complaints', 'number_of_policies', 'months_since_last_claim' ] ]\n",
    "y= p_df['total_claim_amount']"
   ]
  },
  {
   "cell_type": "code",
   "execution_count": 72,
   "id": "7db74d82",
   "metadata": {},
   "outputs": [],
   "source": [
    "#standardizing the data"
   ]
  },
  {
   "cell_type": "code",
   "execution_count": 73,
   "id": "4854dc80",
   "metadata": {},
   "outputs": [],
   "source": [
    "from sklearn.model_selection import train_test_split"
   ]
  },
  {
   "cell_type": "code",
   "execution_count": 74,
   "id": "895d7c2c",
   "metadata": {},
   "outputs": [],
   "source": [
    "x_train, x_test, y_train, y_test = train_test_split(x, y, test_size = 0.25, random_state = 100)"
   ]
  },
  {
   "cell_type": "code",
   "execution_count": 75,
   "id": "5f76c79e",
   "metadata": {},
   "outputs": [],
   "source": [
    "from sklearn.preprocessing import StandardScaler\n",
    "\n",
    "scaler = StandardScaler()\n",
    "x_train_scaled = scaler.fit_transform(x_train)\n",
    "\n",
    "x_train_fit = scaler.fit(x_train)\n",
    "x_test_scaled = x_train_fit.transform(x_test)\n"
   ]
  },
  {
   "cell_type": "code",
   "execution_count": 76,
   "id": "b3bf49ea",
   "metadata": {},
   "outputs": [],
   "source": [
    "#linear regression"
   ]
  },
  {
   "cell_type": "code",
   "execution_count": 77,
   "id": "c5765688",
   "metadata": {},
   "outputs": [],
   "source": [
    "from sklearn.linear_model import LinearRegression"
   ]
  },
  {
   "cell_type": "code",
   "execution_count": 78,
   "id": "53ccf0e3",
   "metadata": {},
   "outputs": [],
   "source": [
    "lm = LinearRegression()"
   ]
  },
  {
   "cell_type": "code",
   "execution_count": 90,
   "id": "d99e8dd5",
   "metadata": {},
   "outputs": [],
   "source": [
    "model = lm.fit(x_train_scaled, y_train)"
   ]
  },
  {
   "cell_type": "code",
   "execution_count": 91,
   "id": "5e8c9fec",
   "metadata": {},
   "outputs": [
    {
     "data": {
      "text/plain": [
       "array([  -4.00755319, -101.71160792,  181.58757796,   -4.97265946,\n",
       "         -2.41600509,    0.41975188,   -1.33833753])"
      ]
     },
     "execution_count": 91,
     "metadata": {},
     "output_type": "execute_result"
    }
   ],
   "source": [
    "model.coef_"
   ]
  },
  {
   "cell_type": "code",
   "execution_count": 92,
   "id": "bb1d565a",
   "metadata": {},
   "outputs": [
    {
     "data": {
      "text/plain": [
       "434.0622473387925"
      ]
     },
     "execution_count": 92,
     "metadata": {},
     "output_type": "execute_result"
    }
   ],
   "source": [
    "model.intercept_"
   ]
  },
  {
   "cell_type": "code",
   "execution_count": 82,
   "id": "c90d4b9b",
   "metadata": {},
   "outputs": [],
   "source": [
    "#predict the total claim amount"
   ]
  },
  {
   "cell_type": "code",
   "execution_count": 93,
   "id": "7c2947f8",
   "metadata": {},
   "outputs": [
    {
     "data": {
      "text/plain": [
       "array([[-0.76043343, -0.35616218, -0.64372705, ..., -0.42923353,\n",
       "        -0.83292699, -1.13455546],\n",
       "       [-0.7907347 , -0.5605567 , -0.64372705, ...,  0.70799066,\n",
       "        -0.83292699, -0.0077106 ],\n",
       "       [-0.073986  , -1.23962932,  0.40000755, ..., -0.42923353,\n",
       "         2.08053707, -0.92967458],\n",
       "       ...,\n",
       "       [-0.18143387, -1.23962932,  0.05209602, ..., -0.42923353,\n",
       "         0.83190962, -0.0077106 ],\n",
       "       [-0.59334724,  1.81207528,  0.19705916, ..., -0.42923353,\n",
       "        -0.83292699, -1.44187678],\n",
       "       [ 0.05092055,  1.18606345,  0.31302967, ..., -0.42923353,\n",
       "         2.49674622,  1.63133646]])"
      ]
     },
     "execution_count": 93,
     "metadata": {},
     "output_type": "execute_result"
    }
   ],
   "source": [
    "x_test_scaled"
   ]
  },
  {
   "cell_type": "code",
   "execution_count": 94,
   "id": "c3c12290",
   "metadata": {},
   "outputs": [],
   "source": [
    "predicted= model.predict(x_test_scaled)"
   ]
  },
  {
   "cell_type": "code",
   "execution_count": 95,
   "id": "e7555690",
   "metadata": {},
   "outputs": [],
   "source": [
    "real_pred = pd.DataFrame()\n",
    "real_pred[\"real\"] = y_test\n",
    "real_pred[\"predicted\"] = predicted"
   ]
  },
  {
   "cell_type": "code",
   "execution_count": 96,
   "id": "8e816bb2",
   "metadata": {},
   "outputs": [
    {
     "data": {
      "text/html": [
       "<div>\n",
       "<style scoped>\n",
       "    .dataframe tbody tr th:only-of-type {\n",
       "        vertical-align: middle;\n",
       "    }\n",
       "\n",
       "    .dataframe tbody tr th {\n",
       "        vertical-align: top;\n",
       "    }\n",
       "\n",
       "    .dataframe thead th {\n",
       "        text-align: right;\n",
       "    }\n",
       "</style>\n",
       "<table border=\"1\" class=\"dataframe\">\n",
       "  <thead>\n",
       "    <tr style=\"text-align: right;\">\n",
       "      <th></th>\n",
       "      <th>real</th>\n",
       "      <th>predicted</th>\n",
       "    </tr>\n",
       "  </thead>\n",
       "  <tbody>\n",
       "    <tr>\n",
       "      <th>1250</th>\n",
       "      <td>340.800000</td>\n",
       "      <td>359.900622</td>\n",
       "    </tr>\n",
       "    <tr>\n",
       "      <th>5438</th>\n",
       "      <td>195.153339</td>\n",
       "      <td>369.436766</td>\n",
       "    </tr>\n",
       "    <tr>\n",
       "      <th>10156</th>\n",
       "      <td>770.400000</td>\n",
       "      <td>633.571062</td>\n",
       "    </tr>\n",
       "    <tr>\n",
       "      <th>3441</th>\n",
       "      <td>336.000000</td>\n",
       "      <td>262.323465</td>\n",
       "    </tr>\n",
       "    <tr>\n",
       "      <th>682</th>\n",
       "      <td>561.600000</td>\n",
       "      <td>563.439802</td>\n",
       "    </tr>\n",
       "    <tr>\n",
       "      <th>...</th>\n",
       "      <td>...</td>\n",
       "      <td>...</td>\n",
       "    </tr>\n",
       "    <tr>\n",
       "      <th>5063</th>\n",
       "      <td>345.600000</td>\n",
       "      <td>344.399776</td>\n",
       "    </tr>\n",
       "    <tr>\n",
       "      <th>10053</th>\n",
       "      <td>664.280864</td>\n",
       "      <td>638.988004</td>\n",
       "    </tr>\n",
       "    <tr>\n",
       "      <th>3453</th>\n",
       "      <td>684.000000</td>\n",
       "      <td>578.855792</td>\n",
       "    </tr>\n",
       "    <tr>\n",
       "      <th>9241</th>\n",
       "      <td>25.713622</td>\n",
       "      <td>289.292097</td>\n",
       "    </tr>\n",
       "    <tr>\n",
       "      <th>10449</th>\n",
       "      <td>497.684017</td>\n",
       "      <td>377.802931</td>\n",
       "    </tr>\n",
       "  </tbody>\n",
       "</table>\n",
       "<p>2728 rows × 2 columns</p>\n",
       "</div>"
      ],
      "text/plain": [
       "             real   predicted\n",
       "1250   340.800000  359.900622\n",
       "5438   195.153339  369.436766\n",
       "10156  770.400000  633.571062\n",
       "3441   336.000000  262.323465\n",
       "682    561.600000  563.439802\n",
       "...           ...         ...\n",
       "5063   345.600000  344.399776\n",
       "10053  664.280864  638.988004\n",
       "3453   684.000000  578.855792\n",
       "9241    25.713622  289.292097\n",
       "10449  497.684017  377.802931\n",
       "\n",
       "[2728 rows x 2 columns]"
      ]
     },
     "execution_count": 96,
     "metadata": {},
     "output_type": "execute_result"
    }
   ],
   "source": [
    "real_pred"
   ]
  },
  {
   "cell_type": "code",
   "execution_count": null,
   "id": "146fb0a7",
   "metadata": {},
   "outputs": [],
   "source": [
    "#calculate the RMSE"
   ]
  },
  {
   "cell_type": "code",
   "execution_count": 97,
   "id": "3c9aca58",
   "metadata": {},
   "outputs": [],
   "source": [
    "from sklearn.metrics import mean_squared_error as mse"
   ]
  },
  {
   "cell_type": "code",
   "execution_count": 98,
   "id": "b348b468",
   "metadata": {},
   "outputs": [
    {
     "data": {
      "text/plain": [
       "206.02119667785954"
      ]
     },
     "execution_count": 98,
     "metadata": {},
     "output_type": "execute_result"
    }
   ],
   "source": [
    "np.sqrt(mse(real_pred['real'], real_pred['predicted']))"
   ]
  },
  {
   "cell_type": "code",
   "execution_count": null,
   "id": "b5efbc6f",
   "metadata": {},
   "outputs": [],
   "source": []
  },
  {
   "cell_type": "code",
   "execution_count": null,
   "id": "d83938e7",
   "metadata": {},
   "outputs": [],
   "source": []
  }
 ],
 "metadata": {
  "kernelspec": {
   "display_name": "Python 3 (ipykernel)",
   "language": "python",
   "name": "python3"
  },
  "language_info": {
   "codemirror_mode": {
    "name": "ipython",
    "version": 3
   },
   "file_extension": ".py",
   "mimetype": "text/x-python",
   "name": "python",
   "nbconvert_exporter": "python",
   "pygments_lexer": "ipython3",
   "version": "3.11.4"
  }
 },
 "nbformat": 4,
 "nbformat_minor": 5
}
